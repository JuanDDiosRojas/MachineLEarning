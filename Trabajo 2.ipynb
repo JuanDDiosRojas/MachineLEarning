{
 "cells": [
  {
   "cell_type": "code",
   "execution_count": 6,
   "id": "ad05cb8f-ede3-40f2-b45f-b2ab2d541c93",
   "metadata": {},
   "outputs": [
    {
     "ename": "ModuleNotFoundError",
     "evalue": "No module named 'sympy'",
     "output_type": "error",
     "traceback": [
      "\u001b[0;31m---------------------------------------------------------------------------\u001b[0m",
      "\u001b[0;31mModuleNotFoundError\u001b[0m                       Traceback (most recent call last)",
      "Cell \u001b[0;32mIn[6], line 4\u001b[0m\n\u001b[1;32m      2\u001b[0m \u001b[38;5;28;01mimport\u001b[39;00m \u001b[38;5;21;01mmatplotlib\u001b[39;00m\u001b[38;5;21;01m.\u001b[39;00m\u001b[38;5;21;01mpyplot\u001b[39;00m \u001b[38;5;28;01mas\u001b[39;00m \u001b[38;5;21;01mplt\u001b[39;00m\n\u001b[1;32m      3\u001b[0m \u001b[38;5;28;01mimport\u001b[39;00m \u001b[38;5;21;01mpandas\u001b[39;00m \u001b[38;5;28;01mas\u001b[39;00m \u001b[38;5;21;01mpd\u001b[39;00m\n\u001b[0;32m----> 4\u001b[0m \u001b[38;5;28;01mfrom\u001b[39;00m \u001b[38;5;21;01msympy\u001b[39;00m \u001b[38;5;28;01mimport\u001b[39;00m \u001b[38;5;241m*\u001b[39m\n",
      "\u001b[0;31mModuleNotFoundError\u001b[0m: No module named 'sympy'"
     ]
    }
   ],
   "source": [
    "import numpy as np\n",
    "import matplotlib.pyplot as plt\n",
    "import pandas as pd\n",
    "from sympy import *"
   ]
  },
  {
   "cell_type": "code",
   "execution_count": null,
   "id": "27c4e910-7c1c-4cef-9d78-cd7c28dd5b96",
   "metadata": {},
   "outputs": [],
   "source": []
  },
  {
   "cell_type": "markdown",
   "id": "776a0970-8bab-4f99-93b5-2ec30f785281",
   "metadata": {},
   "source": [
    "Primero vamos a definir la función a minimizar"
   ]
  },
  {
   "cell_type": "code",
   "execution_count": 3,
   "id": "be8d49d6-baab-43bd-b562-e4aa393155d7",
   "metadata": {},
   "outputs": [],
   "source": [
    "def f(X):\n",
    "    return 100*(X[1]-X[0]**2)**2 + (1+X[0])**2"
   ]
  },
  {
   "cell_type": "code",
   "execution_count": null,
   "id": "d99c6450-1bdc-4168-bd3e-998b6a4df904",
   "metadata": {},
   "outputs": [],
   "source": [
    "\n",
    "x, y, z = symbols('x y z')"
   ]
  },
  {
   "cell_type": "code",
   "execution_count": 5,
   "id": "3f864239-ce44-4566-96a5-7031d77ed0b8",
   "metadata": {},
   "outputs": [],
   "source": [
    "#punto inicial\n",
    "X0=[2,3]"
   ]
  },
  {
   "cell_type": "code",
   "execution_count": null,
   "id": "49112d38-c8ce-48b4-a275-c35fda279aa2",
   "metadata": {},
   "outputs": [],
   "source": [
    "#Ahora hacemos el loop\n",
    "epocas = 1000\n"
   ]
  },
  {
   "cell_type": "code",
   "execution_count": null,
   "id": "92b4e100-0c6b-4f3e-b251-231b61bde312",
   "metadata": {},
   "outputs": [],
   "source": []
  },
  {
   "cell_type": "code",
   "execution_count": null,
   "id": "dc8817f4-e48d-4ba9-ba86-f826f8b7785f",
   "metadata": {},
   "outputs": [],
   "source": []
  }
 ],
 "metadata": {
  "kernelspec": {
   "display_name": "Python 3 (ipykernel)",
   "language": "python",
   "name": "python3"
  },
  "language_info": {
   "codemirror_mode": {
    "name": "ipython",
    "version": 3
   },
   "file_extension": ".py",
   "mimetype": "text/x-python",
   "name": "python",
   "nbconvert_exporter": "python",
   "pygments_lexer": "ipython3",
   "version": "3.10.12"
  }
 },
 "nbformat": 4,
 "nbformat_minor": 5
}
